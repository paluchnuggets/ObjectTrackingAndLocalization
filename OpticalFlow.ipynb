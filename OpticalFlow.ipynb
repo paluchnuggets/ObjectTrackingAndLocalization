{
 "cells": [
  {
   "cell_type": "markdown",
   "metadata": {},
   "source": [
    "# Overview(In progress)\n",
    "Generally, Optical Flow tracks objects by looking at certain points' movement across different frames. Those certain points are commonly called features and to track them first we have to localize them. Below I present the outline of this notebook:<br>\n",
    "\n",
    "1. Description of two methods for feature detection: [**Harris Corner Detector**](#Harris) and [**Shi-Tomasi Corner](#Shi) Detector**\n",
    "2. Explanation of [**Lucas-Kanade method for optical flow**](#Lucas)"
   ]
  },
  {
   "cell_type": "markdown",
   "metadata": {},
   "source": [
    "<a id='Harris'></a>\n",
    "### Harris Corner Detector\n",
    "It is mathematical operator that finds features in an image. Its strength lies in the fact that it is *rotation*, *scale* and *illumination* invariant. How does it work? \n",
    "- https://docs.opencv.org/3.0-beta/doc/py_tutorials/py_feature2d/py_features_harris/py_features_harris.html\n",
    "- http://aishack.in/tutorials/harris-corner-detector/\n",
    "\n",
    "I will finish that description based on that 2 links in the future\n",
    "\n",
    "\n",
    "\n",
    "\n",
    "\n",
    "<a id='Shi'></a>\n",
    "### Shi-Tomasi Corner Detector\n",
    "\n",
    "\n",
    "<a id='Lucas'></a>\n",
    "### Lucas-Kanade method for optical flow"
   ]
  }
 ],
 "metadata": {
  "kernelspec": {
   "display_name": "Python 3",
   "language": "python",
   "name": "python3"
  },
  "language_info": {
   "codemirror_mode": {
    "name": "ipython",
    "version": 3
   },
   "file_extension": ".py",
   "mimetype": "text/x-python",
   "name": "python",
   "nbconvert_exporter": "python",
   "pygments_lexer": "ipython3",
   "version": "3.7.2"
  }
 },
 "nbformat": 4,
 "nbformat_minor": 2
}
